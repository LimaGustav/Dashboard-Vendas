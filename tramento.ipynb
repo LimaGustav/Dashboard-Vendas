{
 "cells": [
  {
   "cell_type": "markdown",
   "metadata": {},
   "source": [
    "Importando Bibliotecas"
   ]
  },
  {
   "cell_type": "code",
   "execution_count": 1,
   "metadata": {},
   "outputs": [],
   "source": [
    "import pandas as pd\n"
   ]
  },
  {
   "cell_type": "markdown",
   "metadata": {},
   "source": [
    "Importando base de dados"
   ]
  },
  {
   "cell_type": "code",
   "execution_count": 16,
   "metadata": {},
   "outputs": [],
   "source": [
    "def importar(arquivo): return pd.read_csv(f'./bases/{arquivo}',delimiter=',')\n",
    "\n",
    "dados_categorias = importar('data_categorias.csv')\n",
    "dados_clientes = importar('data_clientes.csv')\n",
    "dados_lojas = importar('data_lojas.csv')\n",
    "dados_produtos = importar('data_produtos.csv')\n",
    "dados_vendas = importar('data_vendas.csv')"
   ]
  },
  {
   "cell_type": "markdown",
   "metadata": {},
   "source": [
    "Correções"
   ]
  },
  {
   "cell_type": "markdown",
   "metadata": {},
   "source": [
    "* Alterar o tipo de dados das datas ✓\n",
    "* Remover R$ dos valores ✓\n",
    "* Consolidar as bases ✓\n",
    "* Criar a coluna de Total ✓\n",
    "* Salvar o novo data_set ✓"
   ]
  },
  {
   "cell_type": "code",
   "execution_count": null,
   "metadata": {},
   "outputs": [],
   "source": [
    "dados_vendas['dt_Venda'] = pd.to_datetime(dados_vendas['dt_Venda'])\n",
    "dados_vendas.dtypes\n",
    "\n",
    "dados_produtos['Preço Unitário'] = dados_produtos['Preço Unitário'].str.lstrip('R$ ').astype(float)\n",
    "dados_produtos\n",
    "\n"
   ]
  },
  {
   "cell_type": "code",
   "execution_count": 31,
   "metadata": {},
   "outputs": [
    {
     "data": {
      "text/plain": [
       "Index(['id_Venda', 'fk_Cliente', 'fk_Produto', 'fk_Loja', 'Quantidade',\n",
       "       'dt_Venda', 'id_Cliente', 'Cliente', 'Email', 'id_Produto', 'Produto',\n",
       "       'fk_Categoria', 'Preço Unitário', 'id_Loja', 'Loja', 'id_Categoria',\n",
       "       'Categorias'],\n",
       "      dtype='object')"
      ]
     },
     "execution_count": 31,
     "metadata": {},
     "output_type": "execute_result"
    }
   ],
   "source": [
    "\n",
    "dados_consolidados = pd.merge(  dados_vendas, dados_clientes,\n",
    "                                left_on='fk_Cliente', right_on='id_Cliente',\n",
    "                                how='left')\n",
    "\n",
    "dados_consolidados = pd.merge(dados_consolidados, dados_produtos,\n",
    "                              how='right', left_on='fk_Produto',right_on='id_Produto')\n",
    "\n",
    "dados_consolidados = pd.merge(dados_consolidados, dados_lojas,\n",
    "                              how='right', left_on='fk_Loja',right_on='id_Loja')\n",
    "dados_consolidados = pd.merge(dados_consolidados, dados_categorias,\n",
    "                              how='right', left_on='fk_Categoria',right_on='id_Categoria')\n",
    "dados_consolidados.columns"
   ]
  },
  {
   "cell_type": "code",
   "execution_count": null,
   "metadata": {},
   "outputs": [],
   "source": [
    "dados_consolidados['Total'] = dados_consolidados['Preço Unitário'] * dados_consolidados['Quantidade']\n",
    "dados_consolidados"
   ]
  },
  {
   "cell_type": "code",
   "execution_count": 35,
   "metadata": {},
   "outputs": [
    {
     "name": "stdout",
     "output_type": "stream",
     "text": [
      "Já foram deletadas\n"
     ]
    },
    {
     "data": {
      "text/plain": [
       "Index(['id_Venda', 'Quantidade', 'dt_Venda', 'id_Cliente', 'Cliente', 'Email',\n",
       "       'id_Produto', 'Produto', 'Preço Unitário', 'id_Loja', 'Loja',\n",
       "       'id_Categoria', 'Categorias', 'Total'],\n",
       "      dtype='object')"
      ]
     },
     "execution_count": 35,
     "metadata": {},
     "output_type": "execute_result"
    }
   ],
   "source": [
    "try:\n",
    "    dados_consolidados.drop(columns=['fk_Cliente','fk_Produto','fk_Loja','fk_Categoria'], inplace=True)\n",
    "except:\n",
    "    print(\"Já foram deletadas\")\n",
    "dados_consolidados.columns"
   ]
  },
  {
   "cell_type": "code",
   "execution_count": 44,
   "metadata": {},
   "outputs": [
    {
     "data": {
      "text/html": [
       "<div>\n",
       "<style scoped>\n",
       "    .dataframe tbody tr th:only-of-type {\n",
       "        vertical-align: middle;\n",
       "    }\n",
       "\n",
       "    .dataframe tbody tr th {\n",
       "        vertical-align: top;\n",
       "    }\n",
       "\n",
       "    .dataframe thead th {\n",
       "        text-align: right;\n",
       "    }\n",
       "</style>\n",
       "<table border=\"1\" class=\"dataframe\">\n",
       "  <thead>\n",
       "    <tr style=\"text-align: right;\">\n",
       "      <th></th>\n",
       "      <th>id_Venda</th>\n",
       "      <th>Quantidade</th>\n",
       "      <th>dt_Venda</th>\n",
       "      <th>id_Cliente</th>\n",
       "      <th>Cliente</th>\n",
       "      <th>Email</th>\n",
       "      <th>id_Produto</th>\n",
       "      <th>Produto</th>\n",
       "      <th>Preço Unitário</th>\n",
       "      <th>id_Loja</th>\n",
       "      <th>Loja</th>\n",
       "      <th>id_Categoria</th>\n",
       "      <th>Categorias</th>\n",
       "      <th>Total</th>\n",
       "    </tr>\n",
       "  </thead>\n",
       "  <tbody>\n",
       "    <tr>\n",
       "      <th>0</th>\n",
       "      <td>766979-7865826879-vd353</td>\n",
       "      <td>31.0</td>\n",
       "      <td>2023-01-04</td>\n",
       "      <td>3996.0</td>\n",
       "      <td>Ruthe Schowalter</td>\n",
       "      <td>Ruthe@email.com</td>\n",
       "      <td>1.0</td>\n",
       "      <td>Computador_PowerPlex</td>\n",
       "      <td>5650.0</td>\n",
       "      <td>1.0</td>\n",
       "      <td>São Paulo</td>\n",
       "      <td>1</td>\n",
       "      <td>Computador</td>\n",
       "      <td>175150.0</td>\n",
       "    </tr>\n",
       "    <tr>\n",
       "      <th>1</th>\n",
       "      <td>766979-7865826879-vd1373</td>\n",
       "      <td>1.0</td>\n",
       "      <td>2023-01-13</td>\n",
       "      <td>1558.0</td>\n",
       "      <td>Samantha Pollich</td>\n",
       "      <td>Saman@email.com</td>\n",
       "      <td>1.0</td>\n",
       "      <td>Computador_PowerPlex</td>\n",
       "      <td>5650.0</td>\n",
       "      <td>1.0</td>\n",
       "      <td>São Paulo</td>\n",
       "      <td>1</td>\n",
       "      <td>Computador</td>\n",
       "      <td>5650.0</td>\n",
       "    </tr>\n",
       "    <tr>\n",
       "      <th>2</th>\n",
       "      <td>766979-7865826879-vd1589</td>\n",
       "      <td>19.0</td>\n",
       "      <td>2023-01-15</td>\n",
       "      <td>3782.0</td>\n",
       "      <td>Carli Bernhard</td>\n",
       "      <td>Carli@email.com</td>\n",
       "      <td>1.0</td>\n",
       "      <td>Computador_PowerPlex</td>\n",
       "      <td>5650.0</td>\n",
       "      <td>1.0</td>\n",
       "      <td>São Paulo</td>\n",
       "      <td>1</td>\n",
       "      <td>Computador</td>\n",
       "      <td>107350.0</td>\n",
       "    </tr>\n",
       "    <tr>\n",
       "      <th>3</th>\n",
       "      <td>766979-7865826879-vd2101</td>\n",
       "      <td>15.0</td>\n",
       "      <td>2023-01-20</td>\n",
       "      <td>1282.0</td>\n",
       "      <td>Donnie Mertz</td>\n",
       "      <td>Donni@email.com</td>\n",
       "      <td>1.0</td>\n",
       "      <td>Computador_PowerPlex</td>\n",
       "      <td>5650.0</td>\n",
       "      <td>1.0</td>\n",
       "      <td>São Paulo</td>\n",
       "      <td>1</td>\n",
       "      <td>Computador</td>\n",
       "      <td>84750.0</td>\n",
       "    </tr>\n",
       "    <tr>\n",
       "      <th>4</th>\n",
       "      <td>766979-7865826879-vd2402</td>\n",
       "      <td>32.0</td>\n",
       "      <td>2023-01-23</td>\n",
       "      <td>3815.0</td>\n",
       "      <td>Dr. Efren Brekke</td>\n",
       "      <td>Dr. E@email.com</td>\n",
       "      <td>1.0</td>\n",
       "      <td>Computador_PowerPlex</td>\n",
       "      <td>5650.0</td>\n",
       "      <td>1.0</td>\n",
       "      <td>São Paulo</td>\n",
       "      <td>1</td>\n",
       "      <td>Computador</td>\n",
       "      <td>180800.0</td>\n",
       "    </tr>\n",
       "  </tbody>\n",
       "</table>\n",
       "</div>"
      ],
      "text/plain": [
       "                   id_Venda  Quantidade   dt_Venda  id_Cliente  \\\n",
       "0   766979-7865826879-vd353        31.0 2023-01-04      3996.0   \n",
       "1  766979-7865826879-vd1373         1.0 2023-01-13      1558.0   \n",
       "2  766979-7865826879-vd1589        19.0 2023-01-15      3782.0   \n",
       "3  766979-7865826879-vd2101        15.0 2023-01-20      1282.0   \n",
       "4  766979-7865826879-vd2402        32.0 2023-01-23      3815.0   \n",
       "\n",
       "            Cliente            Email  id_Produto               Produto  \\\n",
       "0  Ruthe Schowalter  Ruthe@email.com         1.0  Computador_PowerPlex   \n",
       "1  Samantha Pollich  Saman@email.com         1.0  Computador_PowerPlex   \n",
       "2    Carli Bernhard  Carli@email.com         1.0  Computador_PowerPlex   \n",
       "3      Donnie Mertz  Donni@email.com         1.0  Computador_PowerPlex   \n",
       "4  Dr. Efren Brekke  Dr. E@email.com         1.0  Computador_PowerPlex   \n",
       "\n",
       "   Preço Unitário  id_Loja       Loja  id_Categoria  Categorias     Total  \n",
       "0          5650.0      1.0  São Paulo             1  Computador  175150.0  \n",
       "1          5650.0      1.0  São Paulo             1  Computador    5650.0  \n",
       "2          5650.0      1.0  São Paulo             1  Computador  107350.0  \n",
       "3          5650.0      1.0  São Paulo             1  Computador   84750.0  \n",
       "4          5650.0      1.0  São Paulo             1  Computador  180800.0  "
      ]
     },
     "execution_count": 44,
     "metadata": {},
     "output_type": "execute_result"
    }
   ],
   "source": [
    "dados_consolidados.to_csv('./bases/data_consolidados.csv',sep=',',index=False)\n",
    "dados_consolidados.head()"
   ]
  }
 ],
 "metadata": {
  "kernelspec": {
   "display_name": "Python 3",
   "language": "python",
   "name": "python3"
  },
  "language_info": {
   "codemirror_mode": {
    "name": "ipython",
    "version": 3
   },
   "file_extension": ".py",
   "mimetype": "text/x-python",
   "name": "python",
   "nbconvert_exporter": "python",
   "pygments_lexer": "ipython3",
   "version": "3.12.3"
  }
 },
 "nbformat": 4,
 "nbformat_minor": 2
}
